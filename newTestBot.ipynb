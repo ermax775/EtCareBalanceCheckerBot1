{
 "cells": [
  {
   "cell_type": "markdown",
   "metadata": {
    "colab_type": "text",
    "id": "view-in-github"
   },
   "source": [
    "<a href=\"https://colab.research.google.com/github/ermax775/DamotaDentalClinicBot1/blob/main/DamotaDentalBot1v3.ipynb\" target=\"_parent\"><img src=\"https://colab.research.google.com/assets/colab-badge.svg\" alt=\"Open In Colab\"/></a>"
   ]
  },
  {
   "cell_type": "code",
   "execution_count": null,
   "metadata": {
    "id": "X1yMGJdZQQqo"
   },
   "outputs": [],
   "source": []
  },
  {
   "cell_type": "code",
   "execution_count": null,
   "metadata": {},
   "outputs": [],
   "source": []
  },
  {
   "cell_type": "code",
   "execution_count": 2,
   "metadata": {
    "colab": {
     "base_uri": "https://localhost:8080/"
    },
    "id": "NHIUjQuWQwBt",
    "outputId": "1c81568e-bf84-4efd-90d4-3c9cbfd14538"
   },
   "outputs": [
    {
     "name": "stdout",
     "output_type": "stream",
     "text": [
      "{\"ok\":true,\"result\":[]}\n"
     ]
    }
   ],
   "source": [
    "import requests\n",
    "\n",
    "\n",
    "base_url = \"https://api.telegram.org/bot7467526071:AAF3kSpsgbgCeByyThZpuwJhwDjj280KlEM/getUpdates?\"\n",
    "\n",
    "resp = requests.get(base_url)\n",
    "print(resp.text)"
   ]
  },
  {
   "cell_type": "code",
   "execution_count": 3,
   "metadata": {
    "colab": {
     "base_uri": "https://localhost:8080/"
    },
    "id": "W6g21uyPRH4O",
    "outputId": "d31aa89f-9c54-47f6-8bd0-8c43fe89024b"
   },
   "outputs": [
    {
     "name": "stdout",
     "output_type": "stream",
     "text": [
      "Mounted at /content/drive\n"
     ]
    }
   ],
   "source": []
  },
  {
   "cell_type": "raw",
   "metadata": {},
   "source": []
  },
  {
   "cell_type": "markdown",
   "metadata": {
    "id": "w3cdKjSFQUly"
   },
   "source": [
    "**# EtCare Test Telegram Bot v1**"
   ]
  },
  {
   "cell_type": "code",
   "execution_count": 11,
   "metadata": {
    "colab": {
     "base_uri": "https://localhost:8080/",
     "height": 799
    },
    "id": "tGj0VaDYQhq6",
    "outputId": "02d46f7c-8221-4e95-b0d6-215ed409be27"
   },
   "outputs": [
    {
     "name": "stdout",
     "output_type": "stream",
     "text": [
      "{'ok': True, 'result': []}\n",
      "{'ok': True, 'result': []}\n",
      "{'ok': True, 'result': []}\n",
      "{'ok': True, 'result': []}\n",
      "{'ok': True, 'result': []}\n",
      "{'ok': True, 'result': [{'update_id': 944662778, 'message': {'message_id': 85, 'from': {'id': 644455790, 'is_bot': False, 'first_name': 'ERMA', 'last_name': 'D.A', 'username': 'maskedface7', 'language_code': 'en'}, 'chat': {'id': 644455790, 'first_name': 'ERMA', 'last_name': 'D.A', 'username': 'maskedface7', 'type': 'private'}, 'date': 1720866391, 'text': '10005657'}}]}\n",
      "{\"ok\":true,\"result\":{\"message_id\":86,\"from\":{\"id\":7467526071,\"is_bot\":true,\"first_name\":\"EtCareTestBot\",\"username\":\"EtCareTestBot\"},\"chat\":{\"id\":644455790,\"first_name\":\"ERMA\",\"last_name\":\"D.A\",\"username\":\"maskedface7\",\"type\":\"private\"},\"date\":1720866391,\"reply_to_message\":{\"message_id\":85,\"from\":{\"id\":644455790,\"is_bot\":false,\"first_name\":\"ERMA\",\"last_name\":\"D.A\",\"username\":\"maskedface7\",\"language_code\":\"en\"},\"chat\":{\"id\":644455790,\"first_name\":\"ERMA\",\"last_name\":\"D.A\",\"username\":\"maskedface7\",\"type\":\"private\"},\"date\":1720866391,\"text\":\"10005657\"},\"text\":\"300042\"}}\n",
      "{'ok': True, 'result': []}\n",
      "{'ok': True, 'result': []}\n",
      "{'ok': True, 'result': []}\n",
      "{'ok': True, 'result': []}\n",
      "{'ok': True, 'result': []}\n",
      "{'ok': True, 'result': []}\n",
      "{'ok': True, 'result': []}\n",
      "{'ok': True, 'result': []}\n",
      "{'ok': True, 'result': []}\n",
      "{'ok': True, 'result': []}\n",
      "{'ok': True, 'result': []}\n",
      "{'ok': True, 'result': []}\n",
      "{'ok': True, 'result': []}\n",
      "{'ok': True, 'result': []}\n",
      "{'ok': True, 'result': []}\n",
      "{'ok': True, 'result': []}\n",
      "{'ok': True, 'result': []}\n",
      "{'ok': True, 'result': []}\n",
      "{'ok': True, 'result': []}\n",
      "{'ok': True, 'result': []}\n",
      "{'ok': True, 'result': []}\n",
      "{'ok': True, 'result': []}\n",
      "{'ok': True, 'result': []}\n",
      "{'ok': True, 'result': []}\n",
      "{'ok': True, 'result': []}\n",
      "{'ok': True, 'result': [{'update_id': 944662779, 'message': {'message_id': 87, 'from': {'id': 644455790, 'is_bot': False, 'first_name': 'ERMA', 'last_name': 'D.A', 'username': 'maskedface7', 'language_code': 'en'}, 'chat': {'id': 644455790, 'first_name': 'ERMA', 'last_name': 'D.A', 'username': 'maskedface7', 'type': 'private'}, 'date': 1720866434, 'text': 'Eee'}}]}\n",
      "{\"ok\":true,\"result\":{\"message_id\":88,\"from\":{\"id\":7467526071,\"is_bot\":true,\"first_name\":\"EtCareTestBot\",\"username\":\"EtCareTestBot\"},\"chat\":{\"id\":644455790,\"first_name\":\"ERMA\",\"last_name\":\"D.A\",\"username\":\"maskedface7\",\"type\":\"private\"},\"date\":1720866435,\"reply_to_message\":{\"message_id\":87,\"from\":{\"id\":644455790,\"is_bot\":false,\"first_name\":\"ERMA\",\"last_name\":\"D.A\",\"username\":\"maskedface7\",\"language_code\":\"en\"},\"chat\":{\"id\":644455790,\"first_name\":\"ERMA\",\"last_name\":\"D.A\",\"username\":\"maskedface7\",\"type\":\"private\"},\"date\":1720866434,\"text\":\"Eee\"},\"text\":\"98746\"}}\n",
      "{'ok': True, 'result': []}\n",
      "{'ok': True, 'result': []}\n",
      "{'ok': True, 'result': []}\n",
      "{'ok': True, 'result': []}\n",
      "{'ok': True, 'result': [{'update_id': 944662780, 'message': {'message_id': 89, 'from': {'id': 644455790, 'is_bot': False, 'first_name': 'ERMA', 'last_name': 'D.A', 'username': 'maskedface7', 'language_code': 'en'}, 'chat': {'id': 644455790, 'first_name': 'ERMA', 'last_name': 'D.A', 'username': 'maskedface7', 'type': 'private'}, 'date': 1720866439, 'text': 'Ytxvj'}}]}\n",
      "{\"ok\":true,\"result\":{\"message_id\":90,\"from\":{\"id\":7467526071,\"is_bot\":true,\"first_name\":\"EtCareTestBot\",\"username\":\"EtCareTestBot\"},\"chat\":{\"id\":644455790,\"first_name\":\"ERMA\",\"last_name\":\"D.A\",\"username\":\"maskedface7\",\"type\":\"private\"},\"date\":1720866440,\"reply_to_message\":{\"message_id\":89,\"from\":{\"id\":644455790,\"is_bot\":false,\"first_name\":\"ERMA\",\"last_name\":\"D.A\",\"username\":\"maskedface7\",\"language_code\":\"en\"},\"chat\":{\"id\":644455790,\"first_name\":\"ERMA\",\"last_name\":\"D.A\",\"username\":\"maskedface7\",\"type\":\"private\"},\"date\":1720866439,\"text\":\"Ytxvj\"},\"text\":\"Sorry, your account is not found in our list or you have entered an invalid id. Please call 0943075562 for clarity.\"}}\n",
      "{'ok': True, 'result': []}\n",
      "{'ok': True, 'result': []}\n",
      "{'ok': True, 'result': []}\n",
      "{'ok': True, 'result': []}\n",
      "{'ok': True, 'result': []}\n",
      "{'ok': True, 'result': []}\n",
      "{'ok': True, 'result': []}\n",
      "{'ok': True, 'result': []}\n",
      "{'ok': True, 'result': []}\n",
      "{'ok': True, 'result': []}\n"
     ]
    },
    {
     "ename": "KeyboardInterrupt",
     "evalue": "",
     "output_type": "error",
     "traceback": [
      "\u001b[0;31m---------------------------------------------------------------------------\u001b[0m",
      "\u001b[0;31mKeyboardInterrupt\u001b[0m                         Traceback (most recent call last)",
      "Cell \u001b[0;32mIn[11], line 97\u001b[0m\n\u001b[1;32m     94\u001b[0m offset \u001b[38;5;241m=\u001b[39m \u001b[38;5;241m0\u001b[39m\n\u001b[1;32m     96\u001b[0m \u001b[38;5;28;01mwhile\u001b[39;00m \u001b[38;5;28;01mTrue\u001b[39;00m:  \n\u001b[0;32m---> 97\u001b[0m   offset \u001b[38;5;241m=\u001b[39m read_msg(offset)\n",
      "Cell \u001b[0;32mIn[11], line 24\u001b[0m, in \u001b[0;36mread_msg\u001b[0;34m(offset)\u001b[0m\n\u001b[1;32m     18\u001b[0m \u001b[38;5;28;01mdef\u001b[39;00m \u001b[38;5;21mread_msg\u001b[39m(offset):\n\u001b[1;32m     20\u001b[0m   parameters \u001b[38;5;241m=\u001b[39m {\n\u001b[1;32m     21\u001b[0m       \u001b[38;5;124m\"\u001b[39m\u001b[38;5;124moffset\u001b[39m\u001b[38;5;124m\"\u001b[39m : offset\n\u001b[1;32m     22\u001b[0m   }\n\u001b[0;32m---> 24\u001b[0m   resp \u001b[38;5;241m=\u001b[39m requests\u001b[38;5;241m.\u001b[39mget(base_url \u001b[38;5;241m+\u001b[39m \u001b[38;5;124m\"\u001b[39m\u001b[38;5;124m/getUpdates\u001b[39m\u001b[38;5;124m\"\u001b[39m, data \u001b[38;5;241m=\u001b[39m parameters) \u001b[38;5;66;03m# , data = parameters\u001b[39;00m\n\u001b[1;32m     25\u001b[0m   data \u001b[38;5;241m=\u001b[39m resp\u001b[38;5;241m.\u001b[39mjson()\n\u001b[1;32m     27\u001b[0m   \u001b[38;5;28mprint\u001b[39m(data)\n",
      "File \u001b[0;32m/opt/conda/envs/anaconda-panel-2023.05-py310/lib/python3.11/site-packages/requests/api.py:73\u001b[0m, in \u001b[0;36mget\u001b[0;34m(url, params, **kwargs)\u001b[0m\n\u001b[1;32m     62\u001b[0m \u001b[38;5;28;01mdef\u001b[39;00m \u001b[38;5;21mget\u001b[39m(url, params\u001b[38;5;241m=\u001b[39m\u001b[38;5;28;01mNone\u001b[39;00m, \u001b[38;5;241m*\u001b[39m\u001b[38;5;241m*\u001b[39mkwargs):\n\u001b[1;32m     63\u001b[0m \u001b[38;5;250m    \u001b[39m\u001b[38;5;124mr\u001b[39m\u001b[38;5;124;03m\"\"\"Sends a GET request.\u001b[39;00m\n\u001b[1;32m     64\u001b[0m \n\u001b[1;32m     65\u001b[0m \u001b[38;5;124;03m    :param url: URL for the new :class:`Request` object.\u001b[39;00m\n\u001b[0;32m   (...)\u001b[0m\n\u001b[1;32m     70\u001b[0m \u001b[38;5;124;03m    :rtype: requests.Response\u001b[39;00m\n\u001b[1;32m     71\u001b[0m \u001b[38;5;124;03m    \"\"\"\u001b[39;00m\n\u001b[0;32m---> 73\u001b[0m     \u001b[38;5;28;01mreturn\u001b[39;00m request(\u001b[38;5;124m\"\u001b[39m\u001b[38;5;124mget\u001b[39m\u001b[38;5;124m\"\u001b[39m, url, params\u001b[38;5;241m=\u001b[39mparams, \u001b[38;5;241m*\u001b[39m\u001b[38;5;241m*\u001b[39mkwargs)\n",
      "File \u001b[0;32m/opt/conda/envs/anaconda-panel-2023.05-py310/lib/python3.11/site-packages/requests/api.py:59\u001b[0m, in \u001b[0;36mrequest\u001b[0;34m(method, url, **kwargs)\u001b[0m\n\u001b[1;32m     55\u001b[0m \u001b[38;5;66;03m# By using the 'with' statement we are sure the session is closed, thus we\u001b[39;00m\n\u001b[1;32m     56\u001b[0m \u001b[38;5;66;03m# avoid leaving sockets open which can trigger a ResourceWarning in some\u001b[39;00m\n\u001b[1;32m     57\u001b[0m \u001b[38;5;66;03m# cases, and look like a memory leak in others.\u001b[39;00m\n\u001b[1;32m     58\u001b[0m \u001b[38;5;28;01mwith\u001b[39;00m sessions\u001b[38;5;241m.\u001b[39mSession() \u001b[38;5;28;01mas\u001b[39;00m session:\n\u001b[0;32m---> 59\u001b[0m     \u001b[38;5;28;01mreturn\u001b[39;00m session\u001b[38;5;241m.\u001b[39mrequest(method\u001b[38;5;241m=\u001b[39mmethod, url\u001b[38;5;241m=\u001b[39murl, \u001b[38;5;241m*\u001b[39m\u001b[38;5;241m*\u001b[39mkwargs)\n",
      "File \u001b[0;32m/opt/conda/envs/anaconda-panel-2023.05-py310/lib/python3.11/site-packages/requests/sessions.py:589\u001b[0m, in \u001b[0;36mSession.request\u001b[0;34m(self, method, url, params, data, headers, cookies, files, auth, timeout, allow_redirects, proxies, hooks, stream, verify, cert, json)\u001b[0m\n\u001b[1;32m    584\u001b[0m send_kwargs \u001b[38;5;241m=\u001b[39m {\n\u001b[1;32m    585\u001b[0m     \u001b[38;5;124m\"\u001b[39m\u001b[38;5;124mtimeout\u001b[39m\u001b[38;5;124m\"\u001b[39m: timeout,\n\u001b[1;32m    586\u001b[0m     \u001b[38;5;124m\"\u001b[39m\u001b[38;5;124mallow_redirects\u001b[39m\u001b[38;5;124m\"\u001b[39m: allow_redirects,\n\u001b[1;32m    587\u001b[0m }\n\u001b[1;32m    588\u001b[0m send_kwargs\u001b[38;5;241m.\u001b[39mupdate(settings)\n\u001b[0;32m--> 589\u001b[0m resp \u001b[38;5;241m=\u001b[39m \u001b[38;5;28mself\u001b[39m\u001b[38;5;241m.\u001b[39msend(prep, \u001b[38;5;241m*\u001b[39m\u001b[38;5;241m*\u001b[39msend_kwargs)\n\u001b[1;32m    591\u001b[0m \u001b[38;5;28;01mreturn\u001b[39;00m resp\n",
      "File \u001b[0;32m/opt/conda/envs/anaconda-panel-2023.05-py310/lib/python3.11/site-packages/requests/sessions.py:703\u001b[0m, in \u001b[0;36mSession.send\u001b[0;34m(self, request, **kwargs)\u001b[0m\n\u001b[1;32m    700\u001b[0m start \u001b[38;5;241m=\u001b[39m preferred_clock()\n\u001b[1;32m    702\u001b[0m \u001b[38;5;66;03m# Send the request\u001b[39;00m\n\u001b[0;32m--> 703\u001b[0m r \u001b[38;5;241m=\u001b[39m adapter\u001b[38;5;241m.\u001b[39msend(request, \u001b[38;5;241m*\u001b[39m\u001b[38;5;241m*\u001b[39mkwargs)\n\u001b[1;32m    705\u001b[0m \u001b[38;5;66;03m# Total elapsed time of the request (approximately)\u001b[39;00m\n\u001b[1;32m    706\u001b[0m elapsed \u001b[38;5;241m=\u001b[39m preferred_clock() \u001b[38;5;241m-\u001b[39m start\n",
      "File \u001b[0;32m/opt/conda/envs/anaconda-panel-2023.05-py310/lib/python3.11/site-packages/requests/adapters.py:486\u001b[0m, in \u001b[0;36mHTTPAdapter.send\u001b[0;34m(self, request, stream, timeout, verify, cert, proxies)\u001b[0m\n\u001b[1;32m    483\u001b[0m     timeout \u001b[38;5;241m=\u001b[39m TimeoutSauce(connect\u001b[38;5;241m=\u001b[39mtimeout, read\u001b[38;5;241m=\u001b[39mtimeout)\n\u001b[1;32m    485\u001b[0m \u001b[38;5;28;01mtry\u001b[39;00m:\n\u001b[0;32m--> 486\u001b[0m     resp \u001b[38;5;241m=\u001b[39m conn\u001b[38;5;241m.\u001b[39murlopen(\n\u001b[1;32m    487\u001b[0m         method\u001b[38;5;241m=\u001b[39mrequest\u001b[38;5;241m.\u001b[39mmethod,\n\u001b[1;32m    488\u001b[0m         url\u001b[38;5;241m=\u001b[39murl,\n\u001b[1;32m    489\u001b[0m         body\u001b[38;5;241m=\u001b[39mrequest\u001b[38;5;241m.\u001b[39mbody,\n\u001b[1;32m    490\u001b[0m         headers\u001b[38;5;241m=\u001b[39mrequest\u001b[38;5;241m.\u001b[39mheaders,\n\u001b[1;32m    491\u001b[0m         redirect\u001b[38;5;241m=\u001b[39m\u001b[38;5;28;01mFalse\u001b[39;00m,\n\u001b[1;32m    492\u001b[0m         assert_same_host\u001b[38;5;241m=\u001b[39m\u001b[38;5;28;01mFalse\u001b[39;00m,\n\u001b[1;32m    493\u001b[0m         preload_content\u001b[38;5;241m=\u001b[39m\u001b[38;5;28;01mFalse\u001b[39;00m,\n\u001b[1;32m    494\u001b[0m         decode_content\u001b[38;5;241m=\u001b[39m\u001b[38;5;28;01mFalse\u001b[39;00m,\n\u001b[1;32m    495\u001b[0m         retries\u001b[38;5;241m=\u001b[39m\u001b[38;5;28mself\u001b[39m\u001b[38;5;241m.\u001b[39mmax_retries,\n\u001b[1;32m    496\u001b[0m         timeout\u001b[38;5;241m=\u001b[39mtimeout,\n\u001b[1;32m    497\u001b[0m         chunked\u001b[38;5;241m=\u001b[39mchunked,\n\u001b[1;32m    498\u001b[0m     )\n\u001b[1;32m    500\u001b[0m \u001b[38;5;28;01mexcept\u001b[39;00m (ProtocolError, \u001b[38;5;167;01mOSError\u001b[39;00m) \u001b[38;5;28;01mas\u001b[39;00m err:\n\u001b[1;32m    501\u001b[0m     \u001b[38;5;28;01mraise\u001b[39;00m \u001b[38;5;167;01mConnectionError\u001b[39;00m(err, request\u001b[38;5;241m=\u001b[39mrequest)\n",
      "File \u001b[0;32m/opt/conda/envs/anaconda-panel-2023.05-py310/lib/python3.11/site-packages/urllib3/connectionpool.py:714\u001b[0m, in \u001b[0;36mHTTPConnectionPool.urlopen\u001b[0;34m(self, method, url, body, headers, retries, redirect, assert_same_host, timeout, pool_timeout, release_conn, chunked, body_pos, **response_kw)\u001b[0m\n\u001b[1;32m    711\u001b[0m     \u001b[38;5;28mself\u001b[39m\u001b[38;5;241m.\u001b[39m_prepare_proxy(conn)\n\u001b[1;32m    713\u001b[0m \u001b[38;5;66;03m# Make the request on the httplib connection object.\u001b[39;00m\n\u001b[0;32m--> 714\u001b[0m httplib_response \u001b[38;5;241m=\u001b[39m \u001b[38;5;28mself\u001b[39m\u001b[38;5;241m.\u001b[39m_make_request(\n\u001b[1;32m    715\u001b[0m     conn,\n\u001b[1;32m    716\u001b[0m     method,\n\u001b[1;32m    717\u001b[0m     url,\n\u001b[1;32m    718\u001b[0m     timeout\u001b[38;5;241m=\u001b[39mtimeout_obj,\n\u001b[1;32m    719\u001b[0m     body\u001b[38;5;241m=\u001b[39mbody,\n\u001b[1;32m    720\u001b[0m     headers\u001b[38;5;241m=\u001b[39mheaders,\n\u001b[1;32m    721\u001b[0m     chunked\u001b[38;5;241m=\u001b[39mchunked,\n\u001b[1;32m    722\u001b[0m )\n\u001b[1;32m    724\u001b[0m \u001b[38;5;66;03m# If we're going to release the connection in ``finally:``, then\u001b[39;00m\n\u001b[1;32m    725\u001b[0m \u001b[38;5;66;03m# the response doesn't need to know about the connection. Otherwise\u001b[39;00m\n\u001b[1;32m    726\u001b[0m \u001b[38;5;66;03m# it will also try to release it and we'll have a double-release\u001b[39;00m\n\u001b[1;32m    727\u001b[0m \u001b[38;5;66;03m# mess.\u001b[39;00m\n\u001b[1;32m    728\u001b[0m response_conn \u001b[38;5;241m=\u001b[39m conn \u001b[38;5;28;01mif\u001b[39;00m \u001b[38;5;129;01mnot\u001b[39;00m release_conn \u001b[38;5;28;01melse\u001b[39;00m \u001b[38;5;28;01mNone\u001b[39;00m\n",
      "File \u001b[0;32m/opt/conda/envs/anaconda-panel-2023.05-py310/lib/python3.11/site-packages/urllib3/connectionpool.py:466\u001b[0m, in \u001b[0;36mHTTPConnectionPool._make_request\u001b[0;34m(self, conn, method, url, timeout, chunked, **httplib_request_kw)\u001b[0m\n\u001b[1;32m    461\u001b[0m             httplib_response \u001b[38;5;241m=\u001b[39m conn\u001b[38;5;241m.\u001b[39mgetresponse()\n\u001b[1;32m    462\u001b[0m         \u001b[38;5;28;01mexcept\u001b[39;00m \u001b[38;5;167;01mBaseException\u001b[39;00m \u001b[38;5;28;01mas\u001b[39;00m e:\n\u001b[1;32m    463\u001b[0m             \u001b[38;5;66;03m# Remove the TypeError from the exception chain in\u001b[39;00m\n\u001b[1;32m    464\u001b[0m             \u001b[38;5;66;03m# Python 3 (including for exceptions like SystemExit).\u001b[39;00m\n\u001b[1;32m    465\u001b[0m             \u001b[38;5;66;03m# Otherwise it looks like a bug in the code.\u001b[39;00m\n\u001b[0;32m--> 466\u001b[0m             six\u001b[38;5;241m.\u001b[39mraise_from(e, \u001b[38;5;28;01mNone\u001b[39;00m)\n\u001b[1;32m    467\u001b[0m \u001b[38;5;28;01mexcept\u001b[39;00m (SocketTimeout, BaseSSLError, SocketError) \u001b[38;5;28;01mas\u001b[39;00m e:\n\u001b[1;32m    468\u001b[0m     \u001b[38;5;28mself\u001b[39m\u001b[38;5;241m.\u001b[39m_raise_timeout(err\u001b[38;5;241m=\u001b[39me, url\u001b[38;5;241m=\u001b[39murl, timeout_value\u001b[38;5;241m=\u001b[39mread_timeout)\n",
      "File \u001b[0;32m<string>:3\u001b[0m, in \u001b[0;36mraise_from\u001b[0;34m(value, from_value)\u001b[0m\n",
      "File \u001b[0;32m/opt/conda/envs/anaconda-panel-2023.05-py310/lib/python3.11/site-packages/urllib3/connectionpool.py:461\u001b[0m, in \u001b[0;36mHTTPConnectionPool._make_request\u001b[0;34m(self, conn, method, url, timeout, chunked, **httplib_request_kw)\u001b[0m\n\u001b[1;32m    458\u001b[0m \u001b[38;5;28;01mexcept\u001b[39;00m \u001b[38;5;167;01mTypeError\u001b[39;00m:\n\u001b[1;32m    459\u001b[0m     \u001b[38;5;66;03m# Python 3\u001b[39;00m\n\u001b[1;32m    460\u001b[0m     \u001b[38;5;28;01mtry\u001b[39;00m:\n\u001b[0;32m--> 461\u001b[0m         httplib_response \u001b[38;5;241m=\u001b[39m conn\u001b[38;5;241m.\u001b[39mgetresponse()\n\u001b[1;32m    462\u001b[0m     \u001b[38;5;28;01mexcept\u001b[39;00m \u001b[38;5;167;01mBaseException\u001b[39;00m \u001b[38;5;28;01mas\u001b[39;00m e:\n\u001b[1;32m    463\u001b[0m         \u001b[38;5;66;03m# Remove the TypeError from the exception chain in\u001b[39;00m\n\u001b[1;32m    464\u001b[0m         \u001b[38;5;66;03m# Python 3 (including for exceptions like SystemExit).\u001b[39;00m\n\u001b[1;32m    465\u001b[0m         \u001b[38;5;66;03m# Otherwise it looks like a bug in the code.\u001b[39;00m\n\u001b[1;32m    466\u001b[0m         six\u001b[38;5;241m.\u001b[39mraise_from(e, \u001b[38;5;28;01mNone\u001b[39;00m)\n",
      "File \u001b[0;32m/opt/conda/envs/anaconda-panel-2023.05-py310/lib/python3.11/http/client.py:1378\u001b[0m, in \u001b[0;36mHTTPConnection.getresponse\u001b[0;34m(self)\u001b[0m\n\u001b[1;32m   1376\u001b[0m \u001b[38;5;28;01mtry\u001b[39;00m:\n\u001b[1;32m   1377\u001b[0m     \u001b[38;5;28;01mtry\u001b[39;00m:\n\u001b[0;32m-> 1378\u001b[0m         response\u001b[38;5;241m.\u001b[39mbegin()\n\u001b[1;32m   1379\u001b[0m     \u001b[38;5;28;01mexcept\u001b[39;00m \u001b[38;5;167;01mConnectionError\u001b[39;00m:\n\u001b[1;32m   1380\u001b[0m         \u001b[38;5;28mself\u001b[39m\u001b[38;5;241m.\u001b[39mclose()\n",
      "File \u001b[0;32m/opt/conda/envs/anaconda-panel-2023.05-py310/lib/python3.11/http/client.py:318\u001b[0m, in \u001b[0;36mHTTPResponse.begin\u001b[0;34m(self)\u001b[0m\n\u001b[1;32m    316\u001b[0m \u001b[38;5;66;03m# read until we get a non-100 response\u001b[39;00m\n\u001b[1;32m    317\u001b[0m \u001b[38;5;28;01mwhile\u001b[39;00m \u001b[38;5;28;01mTrue\u001b[39;00m:\n\u001b[0;32m--> 318\u001b[0m     version, status, reason \u001b[38;5;241m=\u001b[39m \u001b[38;5;28mself\u001b[39m\u001b[38;5;241m.\u001b[39m_read_status()\n\u001b[1;32m    319\u001b[0m     \u001b[38;5;28;01mif\u001b[39;00m status \u001b[38;5;241m!=\u001b[39m CONTINUE:\n\u001b[1;32m    320\u001b[0m         \u001b[38;5;28;01mbreak\u001b[39;00m\n",
      "File \u001b[0;32m/opt/conda/envs/anaconda-panel-2023.05-py310/lib/python3.11/http/client.py:279\u001b[0m, in \u001b[0;36mHTTPResponse._read_status\u001b[0;34m(self)\u001b[0m\n\u001b[1;32m    278\u001b[0m \u001b[38;5;28;01mdef\u001b[39;00m \u001b[38;5;21m_read_status\u001b[39m(\u001b[38;5;28mself\u001b[39m):\n\u001b[0;32m--> 279\u001b[0m     line \u001b[38;5;241m=\u001b[39m \u001b[38;5;28mstr\u001b[39m(\u001b[38;5;28mself\u001b[39m\u001b[38;5;241m.\u001b[39mfp\u001b[38;5;241m.\u001b[39mreadline(_MAXLINE \u001b[38;5;241m+\u001b[39m \u001b[38;5;241m1\u001b[39m), \u001b[38;5;124m\"\u001b[39m\u001b[38;5;124miso-8859-1\u001b[39m\u001b[38;5;124m\"\u001b[39m)\n\u001b[1;32m    280\u001b[0m     \u001b[38;5;28;01mif\u001b[39;00m \u001b[38;5;28mlen\u001b[39m(line) \u001b[38;5;241m>\u001b[39m _MAXLINE:\n\u001b[1;32m    281\u001b[0m         \u001b[38;5;28;01mraise\u001b[39;00m LineTooLong(\u001b[38;5;124m\"\u001b[39m\u001b[38;5;124mstatus line\u001b[39m\u001b[38;5;124m\"\u001b[39m)\n",
      "File \u001b[0;32m/opt/conda/envs/anaconda-panel-2023.05-py310/lib/python3.11/socket.py:706\u001b[0m, in \u001b[0;36mSocketIO.readinto\u001b[0;34m(self, b)\u001b[0m\n\u001b[1;32m    704\u001b[0m \u001b[38;5;28;01mwhile\u001b[39;00m \u001b[38;5;28;01mTrue\u001b[39;00m:\n\u001b[1;32m    705\u001b[0m     \u001b[38;5;28;01mtry\u001b[39;00m:\n\u001b[0;32m--> 706\u001b[0m         \u001b[38;5;28;01mreturn\u001b[39;00m \u001b[38;5;28mself\u001b[39m\u001b[38;5;241m.\u001b[39m_sock\u001b[38;5;241m.\u001b[39mrecv_into(b)\n\u001b[1;32m    707\u001b[0m     \u001b[38;5;28;01mexcept\u001b[39;00m timeout:\n\u001b[1;32m    708\u001b[0m         \u001b[38;5;28mself\u001b[39m\u001b[38;5;241m.\u001b[39m_timeout_occurred \u001b[38;5;241m=\u001b[39m \u001b[38;5;28;01mTrue\u001b[39;00m\n",
      "File \u001b[0;32m/opt/conda/envs/anaconda-panel-2023.05-py310/lib/python3.11/ssl.py:1311\u001b[0m, in \u001b[0;36mSSLSocket.recv_into\u001b[0;34m(self, buffer, nbytes, flags)\u001b[0m\n\u001b[1;32m   1307\u001b[0m     \u001b[38;5;28;01mif\u001b[39;00m flags \u001b[38;5;241m!=\u001b[39m \u001b[38;5;241m0\u001b[39m:\n\u001b[1;32m   1308\u001b[0m         \u001b[38;5;28;01mraise\u001b[39;00m \u001b[38;5;167;01mValueError\u001b[39;00m(\n\u001b[1;32m   1309\u001b[0m           \u001b[38;5;124m\"\u001b[39m\u001b[38;5;124mnon-zero flags not allowed in calls to recv_into() on \u001b[39m\u001b[38;5;132;01m%s\u001b[39;00m\u001b[38;5;124m\"\u001b[39m \u001b[38;5;241m%\u001b[39m\n\u001b[1;32m   1310\u001b[0m           \u001b[38;5;28mself\u001b[39m\u001b[38;5;241m.\u001b[39m\u001b[38;5;18m__class__\u001b[39m)\n\u001b[0;32m-> 1311\u001b[0m     \u001b[38;5;28;01mreturn\u001b[39;00m \u001b[38;5;28mself\u001b[39m\u001b[38;5;241m.\u001b[39mread(nbytes, buffer)\n\u001b[1;32m   1312\u001b[0m \u001b[38;5;28;01melse\u001b[39;00m:\n\u001b[1;32m   1313\u001b[0m     \u001b[38;5;28;01mreturn\u001b[39;00m \u001b[38;5;28msuper\u001b[39m()\u001b[38;5;241m.\u001b[39mrecv_into(buffer, nbytes, flags)\n",
      "File \u001b[0;32m/opt/conda/envs/anaconda-panel-2023.05-py310/lib/python3.11/ssl.py:1167\u001b[0m, in \u001b[0;36mSSLSocket.read\u001b[0;34m(self, len, buffer)\u001b[0m\n\u001b[1;32m   1165\u001b[0m \u001b[38;5;28;01mtry\u001b[39;00m:\n\u001b[1;32m   1166\u001b[0m     \u001b[38;5;28;01mif\u001b[39;00m buffer \u001b[38;5;129;01mis\u001b[39;00m \u001b[38;5;129;01mnot\u001b[39;00m \u001b[38;5;28;01mNone\u001b[39;00m:\n\u001b[0;32m-> 1167\u001b[0m         \u001b[38;5;28;01mreturn\u001b[39;00m \u001b[38;5;28mself\u001b[39m\u001b[38;5;241m.\u001b[39m_sslobj\u001b[38;5;241m.\u001b[39mread(\u001b[38;5;28mlen\u001b[39m, buffer)\n\u001b[1;32m   1168\u001b[0m     \u001b[38;5;28;01melse\u001b[39;00m:\n\u001b[1;32m   1169\u001b[0m         \u001b[38;5;28;01mreturn\u001b[39;00m \u001b[38;5;28mself\u001b[39m\u001b[38;5;241m.\u001b[39m_sslobj\u001b[38;5;241m.\u001b[39mread(\u001b[38;5;28mlen\u001b[39m)\n",
      "\u001b[0;31mKeyboardInterrupt\u001b[0m: "
     ]
    }
   ],
   "source": [
    "\n",
    "from pandas.io.common import file_exists\n",
    "import os.path\n",
    "\n",
    "from os.path import exists as file_exists\n",
    "\n",
    "import requests\n",
    "import pandas as pd\n",
    "\n",
    "url = 'tblTotBalance.csv'\n",
    "\n",
    "df = pd.read_csv(url)   # , sep=\"\\t\"\n",
    "\n",
    "\n",
    "base_url = \"https://api.telegram.org/bot7467526071:AAF3kSpsgbgCeByyThZpuwJhwDjj280KlEM\"\n",
    "\n",
    "\n",
    "\n",
    "def read_msg(offset):\n",
    "\n",
    "  parameters = {\n",
    "      \"offset\" : offset\n",
    "  }\n",
    "\n",
    "  resp = requests.get(base_url + \"/getUpdates\", data = parameters) # , data = parameters\n",
    "  data = resp.json()\n",
    "\n",
    "  print(data)\n",
    "\n",
    "  for result in data[\"result\"]:\n",
    "    send_msg(result)\n",
    "  \n",
    "  if data[\"result\"]:\n",
    "    return data[\"result\"][-1][\"update_id\"] + 1\n",
    "\n",
    "\n",
    "\n",
    "# my_file = ''\n",
    "\n",
    "\n",
    "\n",
    "\n",
    "def auto_answer(message):\n",
    "  answer = df.loc[df['AcctNo'].str.lower() == message.lower()] \n",
    "  \n",
    "\n",
    "  if not answer.empty:\n",
    "      answer = answer.iloc[0]['TotalBalance']\n",
    "      # my_file = open(\"/content/drive/MyDrive/\" + message.lower() + \".jpg\", \"rb\") \n",
    "      return answer\n",
    "  else:\n",
    "      return \"Sorry, your account is not found in our list or you have entered an invalid id. Please call 0943075562 for clarity.\"\n",
    "\n",
    "\n",
    "\n",
    "\n",
    "# def fileExists(message):\n",
    "   \n",
    "#   os.chdir(\"/content/drive/MyDrive/\")\n",
    " \n",
    "#   if file_exists(message.lower() + '.jpg'):\n",
    "\n",
    "#       my_file = open( message.lower() + \".jpg\", \"rb\") \n",
    "#       return my_file\n",
    "#   else:\n",
    "#       return \"Sorry, your account is not found in our list or you have entered an invalid id. Please call 0943075562 for clarity.\"\n",
    "\n",
    "\n",
    "def send_msg(message):\n",
    "  text = message[\"message\"][\"text\"]\n",
    "  message_id = message[\"message\"][\"message_id\"]\n",
    "  answer = auto_answer(text)\n",
    "  chat_id = message[\"message\"][\"chat\"][\"id\"]\n",
    "\n",
    "  parameters = {\n",
    "      \"chat_id\" : chat_id,\n",
    "      \"text\" : answer,\n",
    "      \"reply_to_message_id\" : message_id,\n",
    "      \"caption\" : \"Here is your latest balance\"\n",
    "\n",
    "  }\n",
    "\n",
    "  # my_file = fileExists(text) \n",
    "  \n",
    "  # files = {\n",
    "  #   \"photo\" : my_file\n",
    "  #   }\n",
    "\n",
    "  resp = requests.get(base_url + \"/sendMessage\", data = parameters)\n",
    "  print(resp.text)\n",
    "\n",
    "  # resp2 = requests.get(base_url+ \"/sendPhoto\", data = parameters, files=files)\n",
    "  # print(resp2.text)\n",
    "\n",
    "offset = 0\n",
    "\n",
    "while True:  \n",
    "  offset = read_msg(offset)"
   ]
  },
  {
   "cell_type": "code",
   "execution_count": null,
   "metadata": {
    "id": "DM8zafyqQinb"
   },
   "outputs": [],
   "source": []
  },
  {
   "cell_type": "code",
   "execution_count": 4,
   "metadata": {
    "id": "IFKTzGckQhu_"
   },
   "outputs": [],
   "source": [
    "from pandas.io.common import file_exists\n",
    "import os.path\n",
    "\n",
    "from os.path import exists as file_exists\n",
    "\n",
    "import requests\n",
    "import pandas as pd\n",
    "\n",
    "url = 'tblTotBalance.csv'\n",
    "\n",
    "df = pd.read_csv(url)   # , sep=\"\\t\""
   ]
  },
  {
   "cell_type": "code",
   "execution_count": 5,
   "metadata": {},
   "outputs": [
    {
     "name": "stdout",
     "output_type": "stream",
     "text": [
      "['ID', 'AcctNo', 'FullName', 'SavingNCompulsory', 'Share', 'TotalBalance']\n",
      "['1', '10005657', 'ERMIAS DEJENE', '276178', '23864', '300042']\n",
      "['2', '10003427', 'ENANU SINTAYEHU', '34628', '33235', '67863']\n",
      "['3', '10007366', 'TIGIST ALEMNEW', '72348', '273734', '346082']\n",
      "['4', '10000502', 'KIDIST SHEMELES', '634670', '834783', '1469453']\n",
      "['5', '10003400', 'ENDESHAW YIBELTAL', '376280', '827381', '1203661']\n",
      "['6', '10000289', 'SAMRAWIT KIBATU', '234823', '723891', '958714']\n",
      "['7', '10001001', 'EKRAM BERIHUN', '78237', '371268', '449505']\n",
      "['8', '10006363', 'LUNA DEREJE', '123478', '23490', '146968']\n",
      "['9', '10009988', 'SELAM KASSA', '2837618', '34672', '2872290']\n",
      "['10', '10007308', 'YOHANNES SJKAHD', '23678', '23645', '47323']\n",
      "['11', '10002972', 'YTTEB EBIY', '76234', '2356477', '834340']\n"
     ]
    }
   ],
   "source": [
    "import csv\n",
    "\n",
    "# Open the CSV file in read mode\n",
    "with open('tblTotBalance.csv', 'r') as csvfile:\n",
    "    reader = csv.reader(csvfile)\n",
    "    for row in reader:\n",
    "        print(row)  # Each row is a list of values\n"
   ]
  },
  {
   "cell_type": "code",
   "execution_count": null,
   "metadata": {},
   "outputs": [],
   "source": []
  }
 ],
 "metadata": {
  "colab": {
   "authorship_tag": "ABX9TyMKN0b56YLEfORol6llqlPe",
   "collapsed_sections": [],
   "include_colab_link": true,
   "mount_file_id": "1Nc2zhR6uYdPcqhoIfrevRhyABzrkEtr_",
   "name": "DamotaDentalBot1v3.ipynb",
   "provenance": []
  },
  "kernelspec": {
   "display_name": "anaconda-panel-2023.05-py310",
   "language": "python",
   "name": "conda-env-anaconda-panel-2023.05-py310-py"
  },
  "language_info": {
   "codemirror_mode": {
    "name": "ipython",
    "version": 3
   },
   "file_extension": ".py",
   "mimetype": "text/x-python",
   "name": "python",
   "nbconvert_exporter": "python",
   "pygments_lexer": "ipython3",
   "version": "3.11.5"
  }
 },
 "nbformat": 4,
 "nbformat_minor": 4
}
